{
 "cells": [
  {
   "cell_type": "code",
   "execution_count": 16,
   "metadata": {},
   "outputs": [],
   "source": [
    "# Import all necesscary libraries\n",
    "import pandas as pd\n",
    "import numpy as np\n",
    "from bs4 import BeautifulSoup\n",
    "import requests"
   ]
  },
  {
   "cell_type": "code",
   "execution_count": 17,
   "metadata": {},
   "outputs": [],
   "source": [
    "#Getting a response text from the url\n",
    "url = 'http://chubbygrub.com'\n",
    "response = requests.get(url)"
   ]
  },
  {
   "cell_type": "code",
   "execution_count": 18,
   "metadata": {},
   "outputs": [
    {
     "data": {
      "text/plain": [
       "200"
      ]
     },
     "execution_count": 18,
     "metadata": {},
     "output_type": "execute_result"
    }
   ],
   "source": [
    "#Checking response status\n",
    "response.status_code"
   ]
  },
  {
   "cell_type": "code",
   "execution_count": 19,
   "metadata": {},
   "outputs": [],
   "source": [
    "#Creating a soup object\n",
    "soup = BeautifulSoup(response.content, 'lxml')"
   ]
  },
  {
   "cell_type": "markdown",
   "metadata": {},
   "source": [
    "### Scrape the home page soup for every restaurant\n",
    "\n",
    "Note: Your best bet is to create a list of dictionaries, one for each restaurant. Each dictionary contains the restaurant's name and slug. The result of your scrape should look something like this:\n",
    "\n",
    "```python\n",
    "restaurants = [\n",
    "    {'name': 'A&W Restaurants', 'slug': 'aw-restaurants'}, \n",
    "    {'name': \"Applebee's\", 'slug': 'applebees'},\n",
    "    ...\n",
    "]\n",
    "```"
   ]
  },
  {
   "cell_type": "code",
   "execution_count": 34,
   "metadata": {},
   "outputs": [],
   "source": [
    "#Creating a list of dictionaries containg restaurants and their name slugs's\n",
    "restaurants = []\n",
    "names = soup.find_all('a', {'class' : 'btn btn-lg btn-primary'})\n",
    "for i in names:\n",
    "    restaurant = {}\n",
    "    restaurant['name'] = i.text\n",
    "    restaurant['slug'] = i.attrs['href'][13:]\n",
    "    restaurants.append(restaurant)"
   ]
  },
  {
   "cell_type": "code",
   "execution_count": 36,
   "metadata": {},
   "outputs": [
    {
     "data": {
      "text/plain": [
       "44"
      ]
     },
     "execution_count": 36,
     "metadata": {},
     "output_type": "execute_result"
    }
   ],
   "source": [
    "len(restaurants)"
   ]
  },
  {
   "cell_type": "markdown",
   "metadata": {},
   "source": [
    "### Step 3: Using the slug, scrape each restaurant's page and create a single list of food dictionaries.\n",
    "\n",
    "Your list of foods should look something like this:\n",
    "```python\n",
    "foods = [\n",
    "    {\n",
    "        'calories': '0',\n",
    "        'carbs': '0',\n",
    "        'category': 'Drinks',\n",
    "        'fat': '0',\n",
    "        'name': 'A&W® Diet Root Beer',\n",
    "        'restaurant': 'A&W Restaurants'\n",
    "    },\n",
    "    {\n",
    "        'calories': '0',\n",
    "        'carbs': '0',\n",
    "        'category': 'Drinks',\n",
    "        'fat': '0',\n",
    "        'name': 'A&W® Diet Root Beer',\n",
    "        'restaurant': 'A&W Restaurants'\n",
    "    },\n",
    "    ...\n",
    "]\n",
    "```"
   ]
  },
  {
   "cell_type": "code",
   "execution_count": 92,
   "metadata": {},
   "outputs": [],
   "source": [
    "#Creating an empty list for all food item information\n",
    "foods = []\n",
    "#Iterating through all the restaurants found in the previous scrape\n",
    "for i in restaurants:\n",
    "    url = 'http://chubbygrub.com/restaurants/'+ i['slug']\n",
    "    res = requests.get(url)\n",
    "    soup = BeautifulSoup(res.content, 'lxml')\n",
    "#Finding the main table and all the rows in the table\n",
    "    table = soup.find('table', {'id': 'items'})\n",
    "    rows = table.find('tbody').find_all('tr')\n",
    "#Each row corresponds to a food item and finding all the required info of these items     \n",
    "    for _ in rows:\n",
    "        row = _.find_all('td')\n",
    "        food_item = {}\n",
    "        food_item['calories'] = row[2].text\n",
    "        food_item['carbs'] = row[4].text\n",
    "        food_item['category'] = row[1].text.strip()\n",
    "        food_item['fat'] = row[3].text\n",
    "        food_item['name'] = row[0].text\n",
    "        food_item['restaurant'] = i['name']\n",
    "        foods.append(food_item)"
   ]
  },
  {
   "cell_type": "code",
   "execution_count": 110,
   "metadata": {},
   "outputs": [
    {
     "name": "stdout",
     "output_type": "stream",
     "text": [
      "The number of rows in the new DataFrame will be 4977\n"
     ]
    }
   ],
   "source": [
    "#Checking the number of food items that were scraped \n",
    "print(f'The number of rows in the new DataFrame will be {len(foods)}')"
   ]
  },
  {
   "cell_type": "markdown",
   "metadata": {},
   "source": [
    "### Step 4: Create a pandas DataFrame from your list of foods\n",
    "\n",
    "**Note**: Your DataFrame should have 4,977 rows"
   ]
  },
  {
   "cell_type": "code",
   "execution_count": 112,
   "metadata": {},
   "outputs": [
    {
     "data": {
      "text/html": [
       "<div>\n",
       "<style scoped>\n",
       "    .dataframe tbody tr th:only-of-type {\n",
       "        vertical-align: middle;\n",
       "    }\n",
       "\n",
       "    .dataframe tbody tr th {\n",
       "        vertical-align: top;\n",
       "    }\n",
       "\n",
       "    .dataframe thead th {\n",
       "        text-align: right;\n",
       "    }\n",
       "</style>\n",
       "<table border=\"1\" class=\"dataframe\">\n",
       "  <thead>\n",
       "    <tr style=\"text-align: right;\">\n",
       "      <th></th>\n",
       "      <th>name</th>\n",
       "      <th>restaurant</th>\n",
       "      <th>category</th>\n",
       "      <th>calories</th>\n",
       "      <th>carbs</th>\n",
       "      <th>fat</th>\n",
       "    </tr>\n",
       "  </thead>\n",
       "  <tbody>\n",
       "    <tr>\n",
       "      <th>4967</th>\n",
       "      <td>Son of Baconator®</td>\n",
       "      <td>Wendy's</td>\n",
       "      <td>Burgers</td>\n",
       "      <td>670</td>\n",
       "      <td>41</td>\n",
       "      <td>37</td>\n",
       "    </tr>\n",
       "    <tr>\n",
       "      <th>4968</th>\n",
       "      <td>Sour Cream and Chive Potato</td>\n",
       "      <td>Wendy's</td>\n",
       "      <td>Sides</td>\n",
       "      <td>320</td>\n",
       "      <td>63</td>\n",
       "      <td>3.5</td>\n",
       "    </tr>\n",
       "    <tr>\n",
       "      <th>4969</th>\n",
       "      <td>Spicy Chicken Caesar Salad</td>\n",
       "      <td>Wendy's</td>\n",
       "      <td>Salads</td>\n",
       "      <td>780</td>\n",
       "      <td>40</td>\n",
       "      <td>51</td>\n",
       "    </tr>\n",
       "    <tr>\n",
       "      <th>4970</th>\n",
       "      <td>Spicy Chicken Caesar Salad Half-Size</td>\n",
       "      <td>Wendy's</td>\n",
       "      <td>Salads</td>\n",
       "      <td>440</td>\n",
       "      <td>28</td>\n",
       "      <td>27</td>\n",
       "    </tr>\n",
       "    <tr>\n",
       "      <th>4971</th>\n",
       "      <td>Spicy Chicken Go Wrap</td>\n",
       "      <td>Wendy's</td>\n",
       "      <td>Wraps</td>\n",
       "      <td>330</td>\n",
       "      <td>30</td>\n",
       "      <td>16</td>\n",
       "    </tr>\n",
       "    <tr>\n",
       "      <th>4972</th>\n",
       "      <td>Spicy Chicken Sandwich</td>\n",
       "      <td>Wendy's</td>\n",
       "      <td>Sandwiches</td>\n",
       "      <td>510</td>\n",
       "      <td>55</td>\n",
       "      <td>20</td>\n",
       "    </tr>\n",
       "    <tr>\n",
       "      <th>4973</th>\n",
       "      <td>Ultimate Chicken Grill</td>\n",
       "      <td>Wendy's</td>\n",
       "      <td>Sandwiches</td>\n",
       "      <td>370</td>\n",
       "      <td>43</td>\n",
       "      <td>7</td>\n",
       "    </tr>\n",
       "    <tr>\n",
       "      <th>4974</th>\n",
       "      <td>Value French Fries</td>\n",
       "      <td>Wendy's</td>\n",
       "      <td>French Fries</td>\n",
       "      <td>220</td>\n",
       "      <td>28</td>\n",
       "      <td>11</td>\n",
       "    </tr>\n",
       "    <tr>\n",
       "      <th>4975</th>\n",
       "      <td>Value French Fries</td>\n",
       "      <td>Wendy's</td>\n",
       "      <td>French Fries</td>\n",
       "      <td>220</td>\n",
       "      <td>28</td>\n",
       "      <td>11</td>\n",
       "    </tr>\n",
       "    <tr>\n",
       "      <th>4976</th>\n",
       "      <td>Vanilla Frosty Waffle Cone</td>\n",
       "      <td>Wendy's</td>\n",
       "      <td>Shakes</td>\n",
       "      <td>290</td>\n",
       "      <td>53</td>\n",
       "      <td>6</td>\n",
       "    </tr>\n",
       "  </tbody>\n",
       "</table>\n",
       "</div>"
      ],
      "text/plain": [
       "                                      name restaurant      category calories  \\\n",
       "4967                     Son of Baconator®    Wendy's       Burgers      670   \n",
       "4968           Sour Cream and Chive Potato    Wendy's         Sides      320   \n",
       "4969            Spicy Chicken Caesar Salad    Wendy's        Salads      780   \n",
       "4970  Spicy Chicken Caesar Salad Half-Size    Wendy's        Salads      440   \n",
       "4971                 Spicy Chicken Go Wrap    Wendy's         Wraps      330   \n",
       "4972                Spicy Chicken Sandwich    Wendy's    Sandwiches      510   \n",
       "4973                Ultimate Chicken Grill    Wendy's    Sandwiches      370   \n",
       "4974                    Value French Fries    Wendy's  French Fries      220   \n",
       "4975                    Value French Fries    Wendy's  French Fries      220   \n",
       "4976            Vanilla Frosty Waffle Cone    Wendy's        Shakes      290   \n",
       "\n",
       "     carbs  fat  \n",
       "4967    41   37  \n",
       "4968    63  3.5  \n",
       "4969    40   51  \n",
       "4970    28   27  \n",
       "4971    30   16  \n",
       "4972    55   20  \n",
       "4973    43    7  \n",
       "4974    28   11  \n",
       "4975    28   11  \n",
       "4976    53    6  "
      ]
     },
     "execution_count": 112,
     "metadata": {},
     "output_type": "execute_result"
    }
   ],
   "source": [
    "#Creating a dataframe called nutri_df from the foods list and checking how it looks\n",
    "nutri_df  = pd.DataFrame(foods, columns = ['name', 'restaurant', 'category', 'calories', 'carbs', 'fat'])\n",
    "nutri_df.tail(10)"
   ]
  },
  {
   "cell_type": "markdown",
   "metadata": {},
   "source": [
    "### Step 5: Export to csv\n",
    "\n",
    "**Note:** Don't export the index column from your DataFrame"
   ]
  },
  {
   "cell_type": "code",
   "execution_count": 108,
   "metadata": {},
   "outputs": [],
   "source": [
    "#Exporting the dataframe to a csv file\n",
    "nutri_df.to_csv('Nutrition_Chubby.csv', index = False)"
   ]
  }
 ],
 "metadata": {
  "kernelspec": {
   "display_name": "Python 3",
   "language": "python",
   "name": "python3"
  },
  "language_info": {
   "codemirror_mode": {
    "name": "ipython",
    "version": 3
   },
   "file_extension": ".py",
   "mimetype": "text/x-python",
   "name": "python",
   "nbconvert_exporter": "python",
   "pygments_lexer": "ipython3",
   "version": "3.7.3"
  }
 },
 "nbformat": 4,
 "nbformat_minor": 2
}
